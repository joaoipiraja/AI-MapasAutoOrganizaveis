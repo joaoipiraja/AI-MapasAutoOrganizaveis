{
  "nbformat": 4,
  "nbformat_minor": 0,
  "metadata": {
    "colab": {
      "name": "agrupamentoTiposDeVinho.ipynb",
      "provenance": [],
      "authorship_tag": "ABX9TyPutw5rmBEgQCfGGyEvv88z"
    },
    "kernelspec": {
      "name": "python3",
      "display_name": "Python 3"
    }
  },
  "cells": [
    {
      "cell_type": "code",
      "metadata": {
        "id": "HsWyh1ZgKmAK"
      },
      "source": [
        "from minisom import MiniSom\n",
        "import pandas as pd"
      ],
      "execution_count": 40,
      "outputs": []
    },
    {
      "cell_type": "code",
      "metadata": {
        "id": "Nrr3opCaKtot"
      },
      "source": [
        "base = pd.read_csv('wines.csv')"
      ],
      "execution_count": 41,
      "outputs": []
    },
    {
      "cell_type": "code",
      "metadata": {
        "id": "EFRjeE_sKylf"
      },
      "source": [
        "x = base.iloc[:,1:14].values\n",
        "y = base.iloc[:,0].values #Tipos de Agrupamento"
      ],
      "execution_count": 42,
      "outputs": []
    },
    {
      "cell_type": "code",
      "metadata": {
        "id": "6XLrtCU5LCHm"
      },
      "source": [
        "from sklearn.preprocessing import MinMaxScaler\n",
        "normalizador = MinMaxScaler(feature_range = (0,1))\n",
        "X = normalizador.fit_transform(X)"
      ],
      "execution_count": 43,
      "outputs": []
    },
    {
      "cell_type": "code",
      "metadata": {
        "id": "cKhkvBmlL4TX"
      },
      "source": [
        "def calcularDimensaoMatriz(tamanho_treinamento):\n",
        "    import math\n",
        "    tamanho_matriz = 5*math.sqrt(tamanho_treinamento)\n",
        "    dimensao_matriz = math.sqrt(tamanho_matriz)\n",
        "    return math.floor(dimensao_matriz)"
      ],
      "execution_count": 44,
      "outputs": []
    },
    {
      "cell_type": "code",
      "metadata": {
        "id": "_h7ckTVrLkMX"
      },
      "source": [
        "matriz_t = calcularDimensaoMatriz(X.shape[0])\n",
        "\n",
        "som = MiniSom(x = matriz_t, y = matriz_t, input_len= X.shape[1], sigma = 1.0, learning_rate=0.5, random_seed= 2) \n",
        "#Se baseia na matriz da camada interna/ sigma = raio do BMU; input_len= numero de classes/grupos\n",
        "som.random_weights_init(X)\n",
        "som.train_random(data= X, num_iteration=100) # num_iteration= epochs"
      ],
      "execution_count": 45,
      "outputs": []
    },
    {
      "cell_type": "code",
      "metadata": {
        "id": "JRXYlG4nOEgq"
      },
      "source": [
        "som._weights #pesos\n",
        "som._activation_distance #mapas auto organizáveis\n",
        "som.activation_response(X) #quantas vezes o neuronio foi selecionado com BMU"
      ],
      "execution_count": null,
      "outputs": []
    },
    {
      "cell_type": "code",
      "metadata": {
        "colab": {
          "base_uri": "https://localhost:8080/",
          "height": 286
        },
        "id": "s8OLKnkXO_WG",
        "outputId": "c1d442d7-08ac-4f9a-d537-d4ef001fb2eb"
      },
      "source": [
        "from pylab import pcolor, colorbar,plot\n",
        "pcolor(som.distance_map().T) #Matriz transposta - Calcula o MID (Mean Inter Neuron Distance) de cada neurônio a sua volta\n",
        "colorbar()"
      ],
      "execution_count": 47,
      "outputs": [
        {
          "output_type": "execute_result",
          "data": {
            "text/plain": [
              "<matplotlib.colorbar.Colorbar at 0x7fcb09039390>"
            ]
          },
          "metadata": {
            "tags": []
          },
          "execution_count": 47
        },
        {
          "output_type": "display_data",
          "data": {
            "image/png": "[encoded data removed]",
            "text/plain": [
              "<Figure size 432x288 with 2 Axes>"
            ]
          },
          "metadata": {
            "tags": [],
            "needs_background": "light"
          }
        }
      ]
    },
    {
      "cell_type": "code",
      "metadata": {
        "id": "UgkFXdRsVOpV"
      },
      "source": [
        "neuronio_bmu = som.winner(X[2]) #coordenada do bmu\n",
        "marcadores = ['o', 's', 'D']\n",
        "cores = ['r','g','b']\n",
        "y[y==1] = 0\n",
        "y[y==2] = 1\n",
        "y[y==3] = 2"
      ],
      "execution_count": 48,
      "outputs": []
    },
    {
      "cell_type": "code",
      "metadata": {
        "colab": {
          "base_uri": "https://localhost:8080/",
          "height": 265
        },
        "id": "PnHniuIeS10t",
        "outputId": "4c301f59-7a4f-47d8-b713-020b1824cb5d"
      },
      "source": [
        "for i,x in enumerate(X):\n",
        "    neuronio_bmu = som.winner(x)\n",
        "    plot(neuronio_bmu[0] + 0.5, \n",
        "         neuronio_bmu[1]+ 0.5, \n",
        "         marcadores[y[i]], \n",
        "         markerfacecolor = 'None', \n",
        "         markersize = 10,\n",
        "         markeredgecolor = cores[y[i]], \n",
        "         markeredgewidth = 2)\n",
        " "
      ],
      "execution_count": 49,
      "outputs": [
        {
          "output_type": "display_data",
          "data": {
            "image/png": "[encoded data removed]",
            "text/plain": [
              "<Figure size 432x288 with 1 Axes>"
            ]
          },
          "metadata": {
            "tags": [],
            "needs_background": "light"
          }
        }
      ]
    }
  ]
}